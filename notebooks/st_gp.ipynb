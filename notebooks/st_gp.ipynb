{
 "cells": [
  {
   "cell_type": "markdown",
   "id": "e811d911",
   "metadata": {},
   "source": [
    "# Spatiotemporal Gaussian Process Example\n",
    "We use scikit-learn's Gaussian Process to model spatially correlated time series."
   ]
  },
  {
   "cell_type": "code",
   "execution_count": null,
   "id": "39bfd9a8",
   "metadata": {},
   "outputs": [],
   "source": [
    "import numpy as np\n",
    "import matplotlib.pyplot as plt\n",
    "from sklearn.gaussian_process import GaussianProcessRegressor\n",
    "from sklearn.gaussian_process.kernels import RBF, ConstantKernel as C\n",
    "\n",
    "# Generate toy spatiotemporal data\n",
    "np.random.seed(1)\n",
    "X = np.random.rand(50,2) * 10  # time, space\n",
    "y = np.sin(X[:,0]) + np.cos(X[:,1]) + 0.2*np.random.randn(50)\n",
    "\n",
    "# Define kernel\n",
    "kernel = C(1.0) * RBF([1.0, 1.0])\n",
    "gp = GaussianProcessRegressor(kernel=kernel, n_restarts_optimizer=5)\n",
    "\n",
    "gp.fit(X, y)\n",
    "print(\"Learned kernel:\", gp.kernel_)\n",
    "\n",
    "# Predict on grid\n",
    "t = np.linspace(0,10,30)\n",
    "s = np.linspace(0,10,30)\n",
    "T, S = np.meshgrid(t,s)\n",
    "Xpred = np.vstack([T.ravel(), S.ravel()]).T\n",
    "ypred, ystd = gp.predict(Xpred, return_std=True)\n",
    "\n",
    "plt.figure(figsize=(6,5))\n",
    "plt.contourf(T,S,ypred.reshape(30,30), cmap='viridis')\n",
    "plt.colorbar(label='Predicted value')\n",
    "plt.scatter(X[:,0],X[:,1],c=y,edgecolor='k',cmap='viridis')\n",
    "plt.title(\"GP Spatiotemporal Prediction\")\n",
    "plt.show()"
   ]
  }
 ],
 "metadata": {},
 "nbformat": 4,
 "nbformat_minor": 5
}
