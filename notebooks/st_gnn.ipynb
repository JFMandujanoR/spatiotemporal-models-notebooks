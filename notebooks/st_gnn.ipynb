{
 "cells": [
  {
   "cell_type": "markdown",
   "id": "49ef1534",
   "metadata": {},
   "source": [
    "# Spatiotemporal Graph Neural Network (GNN) Demonstration\n",
    "This notebook provides a hands-on example of applying a Graph Neural Network (GNN) to spatiotemporal data using PyTorch Geometric.\n",
    "\n",
    "**Contents:**\n",
    "- Construction of a simple dynamic graph with node features changing over time.\n",
    "- Implementation and training of a GCN (Graph Convolutional Network) model.\n",
    "- Visualization of training loss and node predictions.\n",
    "\n",
    "This workflow is useful for understanding how GNNs can be used to model and analyze data with both spatial and temporal dependencies, such as traffic networks, sensor grids, or climate data."
   ]
  },
  {
   "cell_type": "markdown",
   "id": "d2e964f9",
   "metadata": {},
   "source": [
    "# Spatiotemporal Graph Neural Network Example\n",
    "This demonstrates a simple GNN over a dynamic graph using PyTorch Geometric."
   ]
  },
  {
   "cell_type": "code",
   "execution_count": 2,
   "id": "1da03b82",
   "metadata": {},
   "outputs": [
    {
     "name": "stdout",
     "output_type": "stream",
     "text": [
      "Epoch 0, Loss 14.3779\n",
      "Epoch 10, Loss 13.6697\n",
      "Epoch 20, Loss 13.6070\n",
      "Epoch 20, Loss 13.6070\n"
     ]
    }
   ],
   "source": [
    "import torch\n",
    "import torch.nn as nn\n",
    "import torch.nn.functional as F\n",
    "from torch_geometric.nn import GCNConv\n",
    "from torch_geometric.data import Data\n",
    "\n",
    "# Create toy dynamic graph (fixed edges, varying features)\n",
    "edge_index = torch.tensor([[0,1,1,2],\n",
    "                           [1,0,2,1]], dtype=torch.long)\n",
    "\n",
    "T = 20\n",
    "features = []\n",
    "labels = []\n",
    "for t in range(T):\n",
    "    x = torch.randn(3, 4) + t*0.1  # 3 nodes, 4 features\n",
    "    y = torch.tensor([t%2, (t+1)%2, t%2], dtype=torch.long)\n",
    "    features.append(x)\n",
    "    labels.append(y)\n",
    "\n",
    "class GCN(nn.Module):\n",
    "    def __init__(self, in_channels, hidden_channels, out_channels):\n",
    "        super().__init__()\n",
    "        self.conv1 = GCNConv(in_channels, hidden_channels)\n",
    "        self.conv2 = GCNConv(hidden_channels, out_channels)\n",
    "    def forward(self, x, edge_index):\n",
    "        x = self.conv1(x, edge_index)\n",
    "        x = F.relu(x)\n",
    "        x = self.conv2(x, edge_index)\n",
    "        return x\n",
    "\n",
    "model = GCN(4, 8, 2)\n",
    "optimizer = torch.optim.Adam(model.parameters(), lr=0.01)\n",
    "loss_fn = nn.CrossEntropyLoss()\n",
    "\n",
    "for epoch in range(30):\n",
    "    loss_epoch = 0\n",
    "    for t in range(T):\n",
    "        x, y = features[t], labels[t]\n",
    "        out = model(x, edge_index)\n",
    "        loss = loss_fn(out, y)\n",
    "        optimizer.zero_grad()\n",
    "        loss.backward()\n",
    "        optimizer.step()\n",
    "        loss_epoch += loss.item()\n",
    "    if epoch % 10 == 0:\n",
    "        print(f\"Epoch {epoch}, Loss {loss_epoch:.4f}\")"
   ]
  },
  {
   "cell_type": "markdown",
   "id": "d2e3b2e1",
   "metadata": {},
   "source": [
    "## Visualizing GNN Outputs\n",
    "Let's visualize the node predictions and training loss over time."
   ]
  },
  {
   "cell_type": "code",
   "execution_count": 3,
   "id": "e6e33aa3",
   "metadata": {},
   "outputs": [
    {
     "name": "stdout",
     "output_type": "stream",
     "text": [
      "Epoch 0, Loss 13.5575\n",
      "Epoch 10, Loss 13.5283\n",
      "Epoch 20, Loss 13.5137\n"
     ]
    },
    {
     "data": {
      "image/png": "[encoded data removed]",
      "text/plain": [
       "<Figure size 432x288 with 1 Axes>"
      ]
     },
     "metadata": {
      "needs_background": "light"
     },
     "output_type": "display_data"
    }
   ],
   "source": [
    "import matplotlib.pyplot as plt\n",
    "loss_history = []\n",
    "for epoch in range(30):\n",
    "    loss_epoch = 0\n",
    "    for t in range(T):\n",
    "        x, y = features[t], labels[t]\n",
    "        out = model(x, edge_index)\n",
    "        loss = loss_fn(out, y)\n",
    "        optimizer.zero_grad()\n",
    "        loss.backward()\n",
    "        optimizer.step()\n",
    "        loss_epoch += loss.item()\n",
    "    loss_history.append(loss_epoch)\n",
    "    if epoch % 10 == 0:\n",
    "        print(f\"Epoch {epoch}, Loss {loss_epoch:.4f}\")\n",
    "plt.figure(figsize=(6,4))\n",
    "plt.plot(loss_history)\n",
    "plt.xlabel('Epoch')\n",
    "plt.ylabel('Total Loss')\n",
    "plt.title('Training Loss over Epochs')\n",
    "plt.show()"
   ]
  },
  {
   "cell_type": "code",
   "execution_count": 4,
   "id": "a65bea5a",
   "metadata": {},
   "outputs": [
    {
     "data": {
      "image/png": "[encoded data removed]",
      "text/plain": [
       "<Figure size 360x216 with 1 Axes>"
      ]
     },
     "metadata": {
      "needs_background": "light"
     },
     "output_type": "display_data"
    }
   ],
   "source": [
    "# Visualize node predictions for the last time step\n",
    "x_last = features[-1]\n",
    "out_last = model(x_last, edge_index)\n",
    "pred_last = out_last.argmax(dim=1).numpy()\n",
    "plt.figure(figsize=(5,3))\n",
    "plt.bar(range(len(pred_last)), pred_last)\n",
    "plt.xlabel('Node')\n",
    "plt.ylabel('Predicted Class')\n",
    "plt.title('Node Predictions at Final Time Step')\n",
    "plt.show()"
   ]
  }
 ],
 "metadata": {
  "kernelspec": {
   "display_name": "jfmr",
   "language": "python",
   "name": "python3"
  },
  "language_info": {
   "codemirror_mode": {
    "name": "ipython",
    "version": 3
   },
   "file_extension": ".py",
   "mimetype": "text/x-python",
   "name": "python",
   "nbconvert_exporter": "python",
   "pygments_lexer": "ipython3",
   "version": "3.9.7"
  }
 },
 "nbformat": 4,
 "nbformat_minor": 5
}
