{
 "cells": [
  {
   "cell_type": "markdown",
   "id": "c13060bc",
   "metadata": {},
   "source": [
    "# Spatiotemporal ARIMA Example\n",
    "This notebook demonstrates fitting a simple ARIMA model with seasonal components for simulated spatiotemporal data."
   ]
  },
  {
   "cell_type": "code",
   "execution_count": null,
   "id": "6cc015d0",
   "metadata": {},
   "outputs": [],
   "source": [
    "import numpy as np\n",
    "import pandas as pd\n",
    "import matplotlib.pyplot as plt\n",
    "from statsmodels.tsa.arima.model import ARIMA\n",
    "\n",
    "# Simulate spatiotemporal data\n",
    "np.random.seed(0)\n",
    "T = 100\n",
    "locations = ['A','B','C']\n",
    "data = []\n",
    "for loc in locations:\n",
    "    y = np.cumsum(np.random.randn(T)) + 10*np.sin(np.linspace(0, 3*np.pi, T))\n",
    "    data.append(pd.DataFrame({'time': np.arange(T), 'location': loc, 'value': y}))\n",
    "df = pd.concat(data)\n",
    "\n",
    "df_pivot = df.pivot(index='time', columns='location', values='value')\n",
    "df_pivot.plot(title=\"Simulated Spatiotemporal Series\")\n",
    "plt.show()"
   ]
  },
  {
   "cell_type": "code",
   "execution_count": null,
   "id": "e3b0cea5",
   "metadata": {},
   "outputs": [],
   "source": [
    "# Fit ARIMA for one location\n",
    "series = df_pivot['A']\n",
    "model = ARIMA(series, order=(2,1,2))\n",
    "fit = model.fit()\n",
    "print(fit.summary())\n",
    "\n",
    "# Forecast\n",
    "forecast = fit.forecast(steps=10)\n",
    "plt.plot(series.index, series, label='Observed')\n",
    "plt.plot(np.arange(len(series), len(series)+10), forecast, label='Forecast')\n",
    "plt.legend()\n",
    "plt.show()"
   ]
  }
 ],
 "metadata": {},
 "nbformat": 4,
 "nbformat_minor": 5
}
